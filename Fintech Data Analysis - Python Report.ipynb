{
 "cells": [
  {
   "cell_type": "markdown",
   "id": "7f515763",
   "metadata": {},
   "source": [
    "<center>\n",
    "\n",
    "# **CUSTOMER TRANSACTIONS ANALYSIS**\n",
    "\n",
    "</center>"
   ]
  },
  {
   "cell_type": "markdown",
   "id": "74f97518",
   "metadata": {},
   "source": [
    "<img src=\"Fintech Data Analysis.jpg\" style=\"width:100%; height:400px; object-fit:cover;\">"
   ]
  },
  {
   "cell_type": "markdown",
   "id": "19cb3225",
   "metadata": {},
   "source": [
    "# Background\n",
    "\n",
    "The fintech (financial technology) industry is rapidly transforming how individuals and businesses manage, transfer, and invest money. With the widespread adoption of mobile banking, digital payments, peer-to-peer lending, robo-advisory platforms, and blockchain-based services, fintech companies generate and collect massive volumes of data daily - from user transactions and loan applications to app interactions and fraud patterns."
   ]
  },
  {
   "cell_type": "markdown",
   "id": "3b6ced5c",
   "metadata": {},
   "source": [
    "# Problem Statement\n",
    "\n",
    "The product team has requested a report on all successful transactions that have occurred within a time frame."
   ]
  },
  {
   "cell_type": "markdown",
   "id": "a53144ee",
   "metadata": {},
   "source": [
    "# Objective\n",
    "\n",
    "- Analyze customer transactions to generate insights for the product and finance teams\n",
    "- The report should include both savings and investment transactions, along with key metrics like cash flow, deposits, withdrawals, and breakage fees "
   ]
  },
  {
   "cell_type": "markdown",
   "id": "f90504b4",
   "metadata": {},
   "source": [
    "# Importing Libraries"
   ]
  },
  {
   "cell_type": "code",
   "execution_count": 1,
   "id": "8b26201c",
   "metadata": {},
   "outputs": [],
   "source": [
    "## importing the necessary libraries\n",
    "\n",
    "import pandas as pd"
   ]
  },
  {
   "cell_type": "markdown",
   "id": "2aab20a7",
   "metadata": {},
   "source": [
    "# 1. Data Loading and Inspection"
   ]
  },
  {
   "cell_type": "code",
   "execution_count": 2,
   "id": "15a0d6db",
   "metadata": {},
   "outputs": [
    {
     "data": {
      "text/html": [
       "<div>\n",
       "<style scoped>\n",
       "    .dataframe tbody tr th:only-of-type {\n",
       "        vertical-align: middle;\n",
       "    }\n",
       "\n",
       "    .dataframe tbody tr th {\n",
       "        vertical-align: top;\n",
       "    }\n",
       "\n",
       "    .dataframe thead th {\n",
       "        text-align: right;\n",
       "    }\n",
       "</style>\n",
       "<table border=\"1\" class=\"dataframe\">\n",
       "  <thead>\n",
       "    <tr style=\"text-align: right;\">\n",
       "      <th></th>\n",
       "      <th>Customer ID</th>\n",
       "      <th>Customer Name</th>\n",
       "      <th>Sign-Up Date</th>\n",
       "      <th>KYC Completed Date</th>\n",
       "      <th>Investment Type</th>\n",
       "      <th>Sign-Up Cohort</th>\n",
       "      <th>KYC Cohort</th>\n",
       "      <th>Transaction ID</th>\n",
       "      <th>Transaction Type</th>\n",
       "      <th>USD Amount</th>\n",
       "      <th>Transaction Date</th>\n",
       "      <th>GHS Amount</th>\n",
       "      <th>Exchange Rate</th>\n",
       "      <th>Transaction Cohort</th>\n",
       "      <th>Week Number of Transaction</th>\n",
       "      <th>Asset Type</th>\n",
       "      <th>Maturity Date</th>\n",
       "    </tr>\n",
       "  </thead>\n",
       "  <tbody>\n",
       "    <tr>\n",
       "      <th>0</th>\n",
       "      <td>NaN</td>\n",
       "      <td></td>\n",
       "      <td>NaN</td>\n",
       "      <td>NaN</td>\n",
       "      <td>NaN</td>\n",
       "      <td>NaN</td>\n",
       "      <td>NaN</td>\n",
       "      <td>6f28ac6b-2cfc-4ec7-8a1a-a665a63cf678</td>\n",
       "      <td>deposit</td>\n",
       "      <td>1.17</td>\n",
       "      <td>2024-08-26 09:40:00.220233+00</td>\n",
       "      <td>20.0</td>\n",
       "      <td>17.08</td>\n",
       "      <td>2024-08-01 00:00:00+00</td>\n",
       "      <td>35</td>\n",
       "      <td>NaN</td>\n",
       "      <td>NaN</td>\n",
       "    </tr>\n",
       "    <tr>\n",
       "      <th>1</th>\n",
       "      <td>NaN</td>\n",
       "      <td></td>\n",
       "      <td>NaN</td>\n",
       "      <td>NaN</td>\n",
       "      <td>NaN</td>\n",
       "      <td>NaN</td>\n",
       "      <td>NaN</td>\n",
       "      <td>bdf9951c-916b-4e66-96c4-aa72c025acfa</td>\n",
       "      <td>deposit</td>\n",
       "      <td>1.18</td>\n",
       "      <td>2024-10-10 09:40:00.234441+00</td>\n",
       "      <td>20.0</td>\n",
       "      <td>16.92</td>\n",
       "      <td>2024-10-01 00:00:00+00</td>\n",
       "      <td>41</td>\n",
       "      <td>NaN</td>\n",
       "      <td>NaN</td>\n",
       "    </tr>\n",
       "    <tr>\n",
       "      <th>2</th>\n",
       "      <td>NaN</td>\n",
       "      <td></td>\n",
       "      <td>NaN</td>\n",
       "      <td>NaN</td>\n",
       "      <td>NaN</td>\n",
       "      <td>NaN</td>\n",
       "      <td>NaN</td>\n",
       "      <td>80e29a97-c2e9-4fa8-923d-c7cbb5394412</td>\n",
       "      <td>deposit</td>\n",
       "      <td>6.38</td>\n",
       "      <td>2025-03-07 10:26:14.436273+00</td>\n",
       "      <td>100.0</td>\n",
       "      <td>15.66</td>\n",
       "      <td>2025-03-01 00:00:00+00</td>\n",
       "      <td>10</td>\n",
       "      <td>NaN</td>\n",
       "      <td>NaN</td>\n",
       "    </tr>\n",
       "    <tr>\n",
       "      <th>3</th>\n",
       "      <td>NaN</td>\n",
       "      <td></td>\n",
       "      <td>NaN</td>\n",
       "      <td>NaN</td>\n",
       "      <td>NaN</td>\n",
       "      <td>NaN</td>\n",
       "      <td>NaN</td>\n",
       "      <td>1b2a659c-ae60-4975-854d-8f4f40f36b54</td>\n",
       "      <td>deposit</td>\n",
       "      <td>1.18</td>\n",
       "      <td>2024-10-10 11:49:22.313753+00</td>\n",
       "      <td>20.0</td>\n",
       "      <td>16.92</td>\n",
       "      <td>2024-10-01 00:00:00+00</td>\n",
       "      <td>41</td>\n",
       "      <td>NaN</td>\n",
       "      <td>NaN</td>\n",
       "    </tr>\n",
       "    <tr>\n",
       "      <th>4</th>\n",
       "      <td>NaN</td>\n",
       "      <td></td>\n",
       "      <td>NaN</td>\n",
       "      <td>NaN</td>\n",
       "      <td>NaN</td>\n",
       "      <td>NaN</td>\n",
       "      <td>NaN</td>\n",
       "      <td>971533a7-3c22-48c5-9a4e-a6312bd77835</td>\n",
       "      <td>deposit</td>\n",
       "      <td>6.41</td>\n",
       "      <td>2025-03-05 16:10:48.464645+00</td>\n",
       "      <td>100.0</td>\n",
       "      <td>15.60</td>\n",
       "      <td>2025-03-01 00:00:00+00</td>\n",
       "      <td>10</td>\n",
       "      <td>NaN</td>\n",
       "      <td>NaN</td>\n",
       "    </tr>\n",
       "  </tbody>\n",
       "</table>\n",
       "</div>"
      ],
      "text/plain": [
       "  Customer ID Customer Name Sign-Up Date KYC Completed Date Investment Type  \\\n",
       "0         NaN                        NaN                NaN             NaN   \n",
       "1         NaN                        NaN                NaN             NaN   \n",
       "2         NaN                        NaN                NaN             NaN   \n",
       "3         NaN                        NaN                NaN             NaN   \n",
       "4         NaN                        NaN                NaN             NaN   \n",
       "\n",
       "  Sign-Up Cohort KYC Cohort                        Transaction ID  \\\n",
       "0            NaN        NaN  6f28ac6b-2cfc-4ec7-8a1a-a665a63cf678   \n",
       "1            NaN        NaN  bdf9951c-916b-4e66-96c4-aa72c025acfa   \n",
       "2            NaN        NaN  80e29a97-c2e9-4fa8-923d-c7cbb5394412   \n",
       "3            NaN        NaN  1b2a659c-ae60-4975-854d-8f4f40f36b54   \n",
       "4            NaN        NaN  971533a7-3c22-48c5-9a4e-a6312bd77835   \n",
       "\n",
       "  Transaction Type  USD Amount               Transaction Date  GHS Amount  \\\n",
       "0          deposit        1.17  2024-08-26 09:40:00.220233+00        20.0   \n",
       "1          deposit        1.18  2024-10-10 09:40:00.234441+00        20.0   \n",
       "2          deposit        6.38  2025-03-07 10:26:14.436273+00       100.0   \n",
       "3          deposit        1.18  2024-10-10 11:49:22.313753+00        20.0   \n",
       "4          deposit        6.41  2025-03-05 16:10:48.464645+00       100.0   \n",
       "\n",
       "   Exchange Rate      Transaction Cohort  Week Number of Transaction  \\\n",
       "0          17.08  2024-08-01 00:00:00+00                          35   \n",
       "1          16.92  2024-10-01 00:00:00+00                          41   \n",
       "2          15.66  2025-03-01 00:00:00+00                          10   \n",
       "3          16.92  2024-10-01 00:00:00+00                          41   \n",
       "4          15.60  2025-03-01 00:00:00+00                          10   \n",
       "\n",
       "  Asset Type Maturity Date  \n",
       "0        NaN           NaN  \n",
       "1        NaN           NaN  \n",
       "2        NaN           NaN  \n",
       "3        NaN           NaN  \n",
       "4        NaN           NaN  "
      ]
     },
     "execution_count": 2,
     "metadata": {},
     "output_type": "execute_result"
    }
   ],
   "source": [
    "## loading the CSV file that contains the SQL query\n",
    "## displaying the first five rows\n",
    "\n",
    "fintech = pd.read_csv(\"Fintech Data Analysis - Results from SQL Query.csv\")\n",
    "fintech.head()"
   ]
  },
  {
   "cell_type": "code",
   "execution_count": 3,
   "id": "05655e84",
   "metadata": {},
   "outputs": [
    {
     "data": {
      "text/plain": [
       "(149, 17)"
      ]
     },
     "execution_count": 3,
     "metadata": {},
     "output_type": "execute_result"
    }
   ],
   "source": [
    "## displaying the shape of the dataset\n",
    "\n",
    "fintech.shape"
   ]
  },
  {
   "cell_type": "code",
   "execution_count": 4,
   "id": "00503c27",
   "metadata": {},
   "outputs": [
    {
     "name": "stdout",
     "output_type": "stream",
     "text": [
      "<class 'pandas.core.frame.DataFrame'>\n",
      "RangeIndex: 149 entries, 0 to 148\n",
      "Data columns (total 17 columns):\n",
      " #   Column                      Non-Null Count  Dtype  \n",
      "---  ------                      --------------  -----  \n",
      " 0   Customer ID                 4 non-null      object \n",
      " 1   Customer Name               149 non-null    object \n",
      " 2   Sign-Up Date                4 non-null      object \n",
      " 3   KYC Completed Date          4 non-null      object \n",
      " 4   Investment Type             4 non-null      object \n",
      " 5   Sign-Up Cohort              4 non-null      object \n",
      " 6   KYC Cohort                  4 non-null      object \n",
      " 7   Transaction ID              149 non-null    object \n",
      " 8   Transaction Type            149 non-null    object \n",
      " 9   USD Amount                  149 non-null    float64\n",
      " 10  Transaction Date            149 non-null    object \n",
      " 11  GHS Amount                  149 non-null    float64\n",
      " 12  Exchange Rate               149 non-null    float64\n",
      " 13  Transaction Cohort          149 non-null    object \n",
      " 14  Week Number of Transaction  149 non-null    int64  \n",
      " 15  Asset Type                  4 non-null      object \n",
      " 16  Maturity Date               4 non-null      object \n",
      "dtypes: float64(3), int64(1), object(13)\n",
      "memory usage: 19.9+ KB\n"
     ]
    }
   ],
   "source": [
    "## displaying basic info of the dataset\n",
    "\n",
    "fintech.info()"
   ]
  },
  {
   "cell_type": "markdown",
   "id": "4bc0a36d",
   "metadata": {},
   "source": [
    "# 2. Data Cleaning"
   ]
  },
  {
   "cell_type": "markdown",
   "id": "bbbcc6d9",
   "metadata": {},
   "source": [
    "### 2.1 Handling Date Fields"
   ]
  },
  {
   "cell_type": "code",
   "execution_count": 5,
   "id": "ca53ee93",
   "metadata": {},
   "outputs": [],
   "source": [
    "## changing the datatypes of the date fields for the purpose of the analysis\n",
    " \n",
    "fintech[\"Transaction Date\"] = pd.to_datetime(fintech[\"Transaction Date\"], errors = 'coerce').dt.tz_localize(None)\n",
    "fintech[\"Maturity Date\"] = pd.to_datetime(fintech[\"Maturity Date\"], errors = 'coerce').dt.tz_localize(None)"
   ]
  },
  {
   "cell_type": "code",
   "execution_count": 6,
   "id": "d6fb706b",
   "metadata": {},
   "outputs": [
    {
     "data": {
      "text/plain": [
       "0"
      ]
     },
     "execution_count": 6,
     "metadata": {},
     "output_type": "execute_result"
    }
   ],
   "source": [
    "## checking to see if there are null entries in Transaction Date\n",
    "\n",
    "fintech[\"Transaction Date\"].isnull().sum()"
   ]
  },
  {
   "cell_type": "code",
   "execution_count": 7,
   "id": "9de76bc7",
   "metadata": {},
   "outputs": [
    {
     "data": {
      "text/plain": [
       "145"
      ]
     },
     "execution_count": 7,
     "metadata": {},
     "output_type": "execute_result"
    }
   ],
   "source": [
    "## checking to see if there are null entries in Maturity Date\n",
    "\n",
    "fintech[\"Maturity Date\"].isnull().sum()"
   ]
  },
  {
   "cell_type": "markdown",
   "id": "5e52ad25",
   "metadata": {},
   "source": [
    "There are null values in the Maturity Date field"
   ]
  },
  {
   "cell_type": "code",
   "execution_count": 8,
   "id": "4bfe656e",
   "metadata": {},
   "outputs": [
    {
     "data": {
      "text/plain": [
       "<DatetimeArray>\n",
       "['NaT', '2025-05-06 00:00:00', '2025-06-15 00:00:00', '2025-09-26 00:00:00']\n",
       "Length: 4, dtype: datetime64[ns]"
      ]
     },
     "execution_count": 8,
     "metadata": {},
     "output_type": "execute_result"
    }
   ],
   "source": [
    "## checking to see that the null entries in Maturity Date are pandas accepted NaTs\n",
    "\n",
    "fintech[\"Maturity Date\"].unique()"
   ]
  },
  {
   "cell_type": "markdown",
   "id": "096bf649",
   "metadata": {},
   "source": [
    "# 3. Metrics Generation "
   ]
  },
  {
   "cell_type": "markdown",
   "id": "05429ffa",
   "metadata": {},
   "source": [
    "### 3.1 Breakage Fee"
   ]
  },
  {
   "cell_type": "markdown",
   "id": "47be080d",
   "metadata": {},
   "source": [
    "For withdrawals of certain asset types (e.g., \"Risevest Real Estate\" and \"Risevest Fixed Income\"), calculate a breakage fee of 2.5% if the withdrawal occurs before the maturity date. Duplicate rows for transactions where a breakage fee applies and update the transaction type and amounts accordingly"
   ]
  },
  {
   "cell_type": "code",
   "execution_count": 9,
   "id": "69e71888",
   "metadata": {},
   "outputs": [
    {
     "data": {
      "text/plain": [
       "Asset Type\n",
       "Risevest real estate     3\n",
       "Risevest fixed income    1\n",
       "Name: count, dtype: int64"
      ]
     },
     "execution_count": 9,
     "metadata": {},
     "output_type": "execute_result"
    }
   ],
   "source": [
    "## checking the number and names of the non-null asset types\n",
    "\n",
    "fintech[\"Asset Type\"].value_counts() "
   ]
  },
  {
   "cell_type": "code",
   "execution_count": 10,
   "id": "2500c758",
   "metadata": {},
   "outputs": [],
   "source": [
    "## defining breakage fee asset types\n",
    "\n",
    "breakage_assets = [\"Risevest Real Estate\", \"Risevest Fixed Income\"]"
   ]
  },
  {
   "cell_type": "code",
   "execution_count": 11,
   "id": "c500d746",
   "metadata": {},
   "outputs": [],
   "source": [
    "## identify the early withdrawals that qualify for the breakage fee\n",
    "## the type of transaction is withdrawal\n",
    "## the asset type in in the breakage_assets list\n",
    "## transaction date for the withdrawal occurs before the maturity date\n",
    "\n",
    "early_withdrawals = fintech[\n",
    "    (fintech[\"Transaction Type\"] == \"withdrawal\") &\n",
    "    (fintech[\"Asset Type\"].isin(breakage_assets)) &\n",
    "    (fintech[\"Transaction Date\"] < fintech[\"Maturity Date\"])\n",
    "].copy()"
   ]
  },
  {
   "cell_type": "code",
   "execution_count": 12,
   "id": "7b1fcac2",
   "metadata": {},
   "outputs": [],
   "source": [
    "## applying the 2.5% breakage fee\n",
    "\n",
    "early_withdrawals[\"USD Amount\"] *= 0.025\n",
    "early_withdrawals[\"GHS Amount\"] *= 0.025\n",
    "early_withdrawals[\"Transaction Type\"] = \"breakage_fee\""
   ]
  },
  {
   "cell_type": "code",
   "execution_count": 13,
   "id": "520f4217",
   "metadata": {
    "scrolled": true
   },
   "outputs": [
    {
     "data": {
      "text/html": [
       "<div>\n",
       "<style scoped>\n",
       "    .dataframe tbody tr th:only-of-type {\n",
       "        vertical-align: middle;\n",
       "    }\n",
       "\n",
       "    .dataframe tbody tr th {\n",
       "        vertical-align: top;\n",
       "    }\n",
       "\n",
       "    .dataframe thead th {\n",
       "        text-align: right;\n",
       "    }\n",
       "</style>\n",
       "<table border=\"1\" class=\"dataframe\">\n",
       "  <thead>\n",
       "    <tr style=\"text-align: right;\">\n",
       "      <th></th>\n",
       "      <th>Customer ID</th>\n",
       "      <th>Customer Name</th>\n",
       "      <th>Sign-Up Date</th>\n",
       "      <th>KYC Completed Date</th>\n",
       "      <th>Investment Type</th>\n",
       "      <th>Sign-Up Cohort</th>\n",
       "      <th>KYC Cohort</th>\n",
       "      <th>Transaction ID</th>\n",
       "      <th>Transaction Type</th>\n",
       "      <th>USD Amount</th>\n",
       "      <th>Transaction Date</th>\n",
       "      <th>GHS Amount</th>\n",
       "      <th>Exchange Rate</th>\n",
       "      <th>Transaction Cohort</th>\n",
       "      <th>Week Number of Transaction</th>\n",
       "      <th>Asset Type</th>\n",
       "      <th>Maturity Date</th>\n",
       "    </tr>\n",
       "  </thead>\n",
       "  <tbody>\n",
       "  </tbody>\n",
       "</table>\n",
       "</div>"
      ],
      "text/plain": [
       "Empty DataFrame\n",
       "Columns: [Customer ID, Customer Name, Sign-Up Date, KYC Completed Date, Investment Type, Sign-Up Cohort, KYC Cohort, Transaction ID, Transaction Type, USD Amount, Transaction Date, GHS Amount, Exchange Rate, Transaction Cohort, Week Number of Transaction, Asset Type, Maturity Date]\n",
       "Index: []"
      ]
     },
     "execution_count": 13,
     "metadata": {},
     "output_type": "execute_result"
    }
   ],
   "source": [
    "## displaying the first five rows of early_withdrawals\n",
    "\n",
    "early_withdrawals.head()"
   ]
  },
  {
   "cell_type": "markdown",
   "id": "00668639",
   "metadata": {},
   "source": [
    "Early_withdrawals is now a table"
   ]
  },
  {
   "cell_type": "code",
   "execution_count": 14,
   "id": "29e528c4",
   "metadata": {},
   "outputs": [
    {
     "data": {
      "text/html": [
       "<div>\n",
       "<style scoped>\n",
       "    .dataframe tbody tr th:only-of-type {\n",
       "        vertical-align: middle;\n",
       "    }\n",
       "\n",
       "    .dataframe tbody tr th {\n",
       "        vertical-align: top;\n",
       "    }\n",
       "\n",
       "    .dataframe thead th {\n",
       "        text-align: right;\n",
       "    }\n",
       "</style>\n",
       "<table border=\"1\" class=\"dataframe\">\n",
       "  <thead>\n",
       "    <tr style=\"text-align: right;\">\n",
       "      <th></th>\n",
       "      <th>Customer ID</th>\n",
       "      <th>Customer Name</th>\n",
       "      <th>Sign-Up Date</th>\n",
       "      <th>KYC Completed Date</th>\n",
       "      <th>Investment Type</th>\n",
       "      <th>Sign-Up Cohort</th>\n",
       "      <th>KYC Cohort</th>\n",
       "      <th>Transaction ID</th>\n",
       "      <th>Transaction Type</th>\n",
       "      <th>USD Amount</th>\n",
       "      <th>Transaction Date</th>\n",
       "      <th>GHS Amount</th>\n",
       "      <th>Exchange Rate</th>\n",
       "      <th>Transaction Cohort</th>\n",
       "      <th>Week Number of Transaction</th>\n",
       "      <th>Asset Type</th>\n",
       "      <th>Maturity Date</th>\n",
       "    </tr>\n",
       "  </thead>\n",
       "  <tbody>\n",
       "    <tr>\n",
       "      <th>0</th>\n",
       "      <td>NaN</td>\n",
       "      <td></td>\n",
       "      <td>NaN</td>\n",
       "      <td>NaN</td>\n",
       "      <td>NaN</td>\n",
       "      <td>NaN</td>\n",
       "      <td>NaN</td>\n",
       "      <td>6f28ac6b-2cfc-4ec7-8a1a-a665a63cf678</td>\n",
       "      <td>deposit</td>\n",
       "      <td>1.17</td>\n",
       "      <td>2024-08-26 09:40:00.220233</td>\n",
       "      <td>20.0</td>\n",
       "      <td>17.08</td>\n",
       "      <td>2024-08-01 00:00:00+00</td>\n",
       "      <td>35</td>\n",
       "      <td>NaN</td>\n",
       "      <td>NaT</td>\n",
       "    </tr>\n",
       "    <tr>\n",
       "      <th>1</th>\n",
       "      <td>NaN</td>\n",
       "      <td></td>\n",
       "      <td>NaN</td>\n",
       "      <td>NaN</td>\n",
       "      <td>NaN</td>\n",
       "      <td>NaN</td>\n",
       "      <td>NaN</td>\n",
       "      <td>bdf9951c-916b-4e66-96c4-aa72c025acfa</td>\n",
       "      <td>deposit</td>\n",
       "      <td>1.18</td>\n",
       "      <td>2024-10-10 09:40:00.234441</td>\n",
       "      <td>20.0</td>\n",
       "      <td>16.92</td>\n",
       "      <td>2024-10-01 00:00:00+00</td>\n",
       "      <td>41</td>\n",
       "      <td>NaN</td>\n",
       "      <td>NaT</td>\n",
       "    </tr>\n",
       "    <tr>\n",
       "      <th>2</th>\n",
       "      <td>NaN</td>\n",
       "      <td></td>\n",
       "      <td>NaN</td>\n",
       "      <td>NaN</td>\n",
       "      <td>NaN</td>\n",
       "      <td>NaN</td>\n",
       "      <td>NaN</td>\n",
       "      <td>80e29a97-c2e9-4fa8-923d-c7cbb5394412</td>\n",
       "      <td>deposit</td>\n",
       "      <td>6.38</td>\n",
       "      <td>2025-03-07 10:26:14.436273</td>\n",
       "      <td>100.0</td>\n",
       "      <td>15.66</td>\n",
       "      <td>2025-03-01 00:00:00+00</td>\n",
       "      <td>10</td>\n",
       "      <td>NaN</td>\n",
       "      <td>NaT</td>\n",
       "    </tr>\n",
       "    <tr>\n",
       "      <th>3</th>\n",
       "      <td>NaN</td>\n",
       "      <td></td>\n",
       "      <td>NaN</td>\n",
       "      <td>NaN</td>\n",
       "      <td>NaN</td>\n",
       "      <td>NaN</td>\n",
       "      <td>NaN</td>\n",
       "      <td>1b2a659c-ae60-4975-854d-8f4f40f36b54</td>\n",
       "      <td>deposit</td>\n",
       "      <td>1.18</td>\n",
       "      <td>2024-10-10 11:49:22.313753</td>\n",
       "      <td>20.0</td>\n",
       "      <td>16.92</td>\n",
       "      <td>2024-10-01 00:00:00+00</td>\n",
       "      <td>41</td>\n",
       "      <td>NaN</td>\n",
       "      <td>NaT</td>\n",
       "    </tr>\n",
       "    <tr>\n",
       "      <th>4</th>\n",
       "      <td>NaN</td>\n",
       "      <td></td>\n",
       "      <td>NaN</td>\n",
       "      <td>NaN</td>\n",
       "      <td>NaN</td>\n",
       "      <td>NaN</td>\n",
       "      <td>NaN</td>\n",
       "      <td>971533a7-3c22-48c5-9a4e-a6312bd77835</td>\n",
       "      <td>deposit</td>\n",
       "      <td>6.41</td>\n",
       "      <td>2025-03-05 16:10:48.464645</td>\n",
       "      <td>100.0</td>\n",
       "      <td>15.60</td>\n",
       "      <td>2025-03-01 00:00:00+00</td>\n",
       "      <td>10</td>\n",
       "      <td>NaN</td>\n",
       "      <td>NaT</td>\n",
       "    </tr>\n",
       "  </tbody>\n",
       "</table>\n",
       "</div>"
      ],
      "text/plain": [
       "  Customer ID Customer Name Sign-Up Date KYC Completed Date Investment Type  \\\n",
       "0         NaN                        NaN                NaN             NaN   \n",
       "1         NaN                        NaN                NaN             NaN   \n",
       "2         NaN                        NaN                NaN             NaN   \n",
       "3         NaN                        NaN                NaN             NaN   \n",
       "4         NaN                        NaN                NaN             NaN   \n",
       "\n",
       "  Sign-Up Cohort KYC Cohort                        Transaction ID  \\\n",
       "0            NaN        NaN  6f28ac6b-2cfc-4ec7-8a1a-a665a63cf678   \n",
       "1            NaN        NaN  bdf9951c-916b-4e66-96c4-aa72c025acfa   \n",
       "2            NaN        NaN  80e29a97-c2e9-4fa8-923d-c7cbb5394412   \n",
       "3            NaN        NaN  1b2a659c-ae60-4975-854d-8f4f40f36b54   \n",
       "4            NaN        NaN  971533a7-3c22-48c5-9a4e-a6312bd77835   \n",
       "\n",
       "  Transaction Type  USD Amount           Transaction Date  GHS Amount  \\\n",
       "0          deposit        1.17 2024-08-26 09:40:00.220233        20.0   \n",
       "1          deposit        1.18 2024-10-10 09:40:00.234441        20.0   \n",
       "2          deposit        6.38 2025-03-07 10:26:14.436273       100.0   \n",
       "3          deposit        1.18 2024-10-10 11:49:22.313753        20.0   \n",
       "4          deposit        6.41 2025-03-05 16:10:48.464645       100.0   \n",
       "\n",
       "   Exchange Rate      Transaction Cohort  Week Number of Transaction  \\\n",
       "0          17.08  2024-08-01 00:00:00+00                          35   \n",
       "1          16.92  2024-10-01 00:00:00+00                          41   \n",
       "2          15.66  2025-03-01 00:00:00+00                          10   \n",
       "3          16.92  2024-10-01 00:00:00+00                          41   \n",
       "4          15.60  2025-03-01 00:00:00+00                          10   \n",
       "\n",
       "  Asset Type Maturity Date  \n",
       "0        NaN           NaT  \n",
       "1        NaN           NaT  \n",
       "2        NaN           NaT  \n",
       "3        NaN           NaT  \n",
       "4        NaN           NaT  "
      ]
     },
     "execution_count": 14,
     "metadata": {},
     "output_type": "execute_result"
    }
   ],
   "source": [
    "## appending the early withdrawals table to the fintech df\n",
    "\n",
    "fintech = pd.concat([fintech, early_withdrawals], ignore_index=True)\n",
    "fintech.head()"
   ]
  },
  {
   "cell_type": "code",
   "execution_count": 15,
   "id": "72d383d9",
   "metadata": {},
   "outputs": [
    {
     "data": {
      "text/plain": [
       "(149, 17)"
      ]
     },
     "execution_count": 15,
     "metadata": {},
     "output_type": "execute_result"
    }
   ],
   "source": [
    "## displaying the shape of the fintech df\n",
    "\n",
    "fintech.shape"
   ]
  },
  {
   "cell_type": "markdown",
   "id": "a33cd669",
   "metadata": {},
   "source": [
    "### 3.2 Cash Flow Metrics"
   ]
  },
  {
   "cell_type": "markdown",
   "id": "12eacd52",
   "metadata": {},
   "source": [
    "Cash Flow Metrics: Calculate the following for both USD and GHS:\n",
    "- Cash Flow (usd_cash_flow, ghs_cash_flow): Positive for deposits, negative for withdrawals\n",
    "- Deposits (for both usd and ghs deposits)\n",
    "- Withdrawals (for both usd and ghs deposits)"
   ]
  },
  {
   "cell_type": "markdown",
   "id": "6ed7f8db",
   "metadata": {},
   "source": [
    "### 3.21 Cash Flow (usd_cash_flow, ghs_cash_flow): Positive for deposits, negative for withdrawals"
   ]
  },
  {
   "cell_type": "code",
   "execution_count": 16,
   "id": "5c3678cb",
   "metadata": {},
   "outputs": [],
   "source": [
    "## computing the metrics for cash flow\n",
    "\n",
    "def compute_cash_flow(row, currency):\n",
    "    amount = row[f\"{currency} Amount\"]\n",
    "    if row[\"Transaction Type\"] == \"deposit\":\n",
    "        return amount\n",
    "    elif row[\"Transaction Type\"] in [\"withdrawal\", \"breakage_fee\"]:\n",
    "        return -amount\n",
    "    return 0\n",
    "\n",
    "fintech[\"usd_cash_flow\"] = fintech.apply(lambda row: compute_cash_flow(row, \"USD\"), axis=1)\n",
    "fintech[\"ghs_cash_flow\"] = fintech.apply(lambda row: compute_cash_flow(row, \"GHS\"), axis=1)"
   ]
  },
  {
   "cell_type": "code",
   "execution_count": 17,
   "id": "02a87837",
   "metadata": {},
   "outputs": [
    {
     "data": {
      "text/plain": [
       "(149, 19)"
      ]
     },
     "execution_count": 17,
     "metadata": {},
     "output_type": "execute_result"
    }
   ],
   "source": [
    "## displaying the shape of the fintech df\n",
    "\n",
    "fintech.shape"
   ]
  },
  {
   "cell_type": "markdown",
   "id": "d3f4a248",
   "metadata": {},
   "source": [
    "### 3.22 Deposits (for both usd and ghs deposits)"
   ]
  },
  {
   "cell_type": "code",
   "execution_count": 18,
   "id": "3ac290b6",
   "metadata": {},
   "outputs": [],
   "source": [
    "## calculating the deposits in usd and ghs\n",
    "\n",
    "fintech[\"usd_deposit\"] = fintech.apply(lambda row: row[\"USD Amount\"] if row[\"Transaction Type\"] == \"deposit\" else 0, axis=1)\n",
    "fintech[\"ghs_deposit\"] = fintech.apply(lambda row: row[\"GHS Amount\"] if row[\"Transaction Type\"] == \"deposit\" else 0, axis=1)"
   ]
  },
  {
   "cell_type": "code",
   "execution_count": 19,
   "id": "e67bfc52",
   "metadata": {},
   "outputs": [
    {
     "data": {
      "text/plain": [
       "(149, 21)"
      ]
     },
     "execution_count": 19,
     "metadata": {},
     "output_type": "execute_result"
    }
   ],
   "source": [
    "## displaying the shape of the fintech df\n",
    "\n",
    "fintech.shape"
   ]
  },
  {
   "cell_type": "markdown",
   "id": "f309e914",
   "metadata": {},
   "source": [
    "### 3.23 Withdrawals (for both usd and ghs deposits)"
   ]
  },
  {
   "cell_type": "code",
   "execution_count": 20,
   "id": "a0820e06",
   "metadata": {},
   "outputs": [],
   "source": [
    "## calculating the withdrawals in usd and ghs\n",
    "\n",
    "fintech[\"usd_withdrawal\"] = fintech.apply(lambda row: row[\"USD Amount\"] if row[\"Transaction Type\"] == \"withdrawal\" else 0, axis=1)\n",
    "fintech[\"ghs_withdrawal\"] = fintech.apply(lambda row: row[\"GHS Amount\"] if row[\"Transaction Type\"] == \"withdrawal\" else 0, axis=1)"
   ]
  },
  {
   "cell_type": "code",
   "execution_count": 21,
   "id": "99bab393",
   "metadata": {},
   "outputs": [
    {
     "data": {
      "text/plain": [
       "(149, 23)"
      ]
     },
     "execution_count": 21,
     "metadata": {},
     "output_type": "execute_result"
    }
   ],
   "source": [
    "## displaying the shape of the fintech df\n",
    "\n",
    "fintech.shape"
   ]
  },
  {
   "cell_type": "markdown",
   "id": "f6032979",
   "metadata": {},
   "source": [
    "### 3.3 Funding Source"
   ]
  },
  {
   "cell_type": "markdown",
   "id": "2299017c",
   "metadata": {},
   "source": [
    "Add a column funding_source:\n",
    "- If the transaction type is internal_transfer, set the funding source to \"flex dollar\"\n",
    "- Otherwise, set it to “mobile money”"
   ]
  },
  {
   "cell_type": "code",
   "execution_count": 22,
   "id": "709ceaf4",
   "metadata": {},
   "outputs": [],
   "source": [
    "## adding the column funding_source\n",
    "\n",
    "fintech[\"funding_source\"] = fintech[\"Transaction Type\"].apply(\n",
    "    lambda x: \"flex dollar\" if x == \"internal_transfer\" else \"mobile money\")"
   ]
  },
  {
   "cell_type": "code",
   "execution_count": 23,
   "id": "87c51bc2",
   "metadata": {},
   "outputs": [
    {
     "data": {
      "text/plain": [
       "(149, 24)"
      ]
     },
     "execution_count": 23,
     "metadata": {},
     "output_type": "execute_result"
    }
   ],
   "source": [
    "## displaying the shape of the fintech df\n",
    "\n",
    "fintech.shape"
   ]
  },
  {
   "cell_type": "markdown",
   "id": "43c2615e",
   "metadata": {},
   "source": [
    "# 4. Saving The Final Processed File"
   ]
  },
  {
   "cell_type": "code",
   "execution_count": 24,
   "id": "d4f955c4",
   "metadata": {},
   "outputs": [],
   "source": [
    "## saving to a new CSV\n",
    "\n",
    "fintech.to_csv(\"Fintech Data Analysis - Final Report.csv\", index=False)"
   ]
  }
 ],
 "metadata": {
  "kernelspec": {
   "display_name": "Python 3 (ipykernel)",
   "language": "python",
   "name": "python3"
  },
  "language_info": {
   "codemirror_mode": {
    "name": "ipython",
    "version": 3
   },
   "file_extension": ".py",
   "mimetype": "text/x-python",
   "name": "python",
   "nbconvert_exporter": "python",
   "pygments_lexer": "ipython3",
   "version": "3.11.5"
  }
 },
 "nbformat": 4,
 "nbformat_minor": 5
}
